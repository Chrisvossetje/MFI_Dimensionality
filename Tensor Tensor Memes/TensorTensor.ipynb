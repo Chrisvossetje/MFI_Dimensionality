{
 "cells": [
  {
   "cell_type": "code",
   "execution_count": null,
   "metadata": {},
   "outputs": [],
   "source": [
    "import numpy as np\n",
    "\n",
    "#This is an application of the generalized TT-transform A x_B M\n",
    "def tprod_fourier(A, B):\n",
    "    \"\"\"\n",
    "    Tensor-tensor product of two 3-way tensors along the fourier domain: C = A * B.\n",
    "    \n",
    "    Parameters:\n",
    "        A (ndarray): Tensor of shape (n1, n2, n3)\n",
    "        B (ndarray): Tensor of shape (n2, m2, n3)\n",
    "        \n",
    "    Returns:\n",
    "        C (ndarray): Tensor of shape (n1, m2, n3)\n",
    "        \n",
    "    The product is computed in the Fourier domain along the third axis.\n",
    "    \"\"\"\n",
    "    n1, n2, n3 = A.shape\n",
    "    m1, m2, m3 = B.shape\n",
    "\n",
    "    if n2 != m1 or n3 != m3:\n",
    "        raise ValueError(\"Inner tensor dimensions must agree.\")\n",
    "    \n",
    "    # Compute the FFT along the third dimension (axis=2)\n",
    "    A_fft = np.fft.fft(A, axis=2)\n",
    "    B_fft = np.fft.fft(B, axis=2)\n",
    "    \n",
    "    # Prepare an array for the result in the Fourier domain\n",
    "    C_fft = np.zeros((n1, m2, n3), dtype=complex)\n",
    "    \n",
    "    # Determine the half-point along the third dimension\n",
    "    halfn3 = int(np.ceil((n3 + 1) / 2))\n",
    "    \n",
    "    # For the first half (including the center if n3 is odd)\n",
    "    for i in range(halfn3):\n",
    "        C_fft[:, :, i] = A_fft[:, :, i] @ B_fft[:, :, i]\n",
    "    \n",
    "    # For the remaining frequencies, use the conjugate symmetry property\n",
    "    for i in range(halfn3, n3):\n",
    "        C_fft[:, :, i] = np.conjugate(C_fft[:, :, n3 - i])\n",
    "    \n",
    "    # Inverse FFT along the third axis to return to the spatial domain\n",
    "    C = np.fft.ifft(C_fft, axis=2)\n",
    "    \n",
    "    # If A and B are real, the imaginary part should be negligible.\n",
    "    # Optionally, one can return C.real\n",
    "    return C\n",
    "\n",
    "\n"
   ]
  }
 ],
 "metadata": {
  "kernelspec": {
   "display_name": "Python 3",
   "language": "python",
   "name": "python3"
  },
  "language_info": {
   "codemirror_mode": {
    "name": "ipython",
    "version": 3
   },
   "file_extension": ".py",
   "mimetype": "text/x-python",
   "name": "python",
   "nbconvert_exporter": "python",
   "pygments_lexer": "ipython3",
   "version": "3.11.9"
  }
 },
 "nbformat": 4,
 "nbformat_minor": 2
}
